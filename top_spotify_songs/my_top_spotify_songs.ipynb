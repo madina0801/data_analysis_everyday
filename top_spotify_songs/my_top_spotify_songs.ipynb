{
 "cells": [
  {
   "cell_type": "code",
   "execution_count": 6,
   "id": "58812c7d",
   "metadata": {},
   "outputs": [],
   "source": [
    "%reload_ext dotenv\n",
    "%dotenv"
   ]
  },
  {
   "cell_type": "code",
   "execution_count": 2,
   "id": "3efc180e",
   "metadata": {},
   "outputs": [
    {
     "name": "stdout",
     "output_type": "stream",
     "text": [
      "Requirement already satisfied: spotipy in c:\\users\\alser\\appdata\\local\\programs\\python\\python310\\lib\\site-packages (2.25.1)\n",
      "Requirement already satisfied: requests>=2.25.0 in c:\\users\\alser\\appdata\\local\\programs\\python\\python310\\lib\\site-packages (from spotipy) (2.31.0)\n",
      "Requirement already satisfied: urllib3>=1.26.0 in c:\\users\\alser\\appdata\\local\\programs\\python\\python310\\lib\\site-packages (from spotipy) (1.26.18)\n",
      "Requirement already satisfied: redis>=3.5.3 in c:\\users\\alser\\appdata\\local\\programs\\python\\python310\\lib\\site-packages (from spotipy) (5.2.1)\n",
      "Requirement already satisfied: async-timeout>=4.0.3 in c:\\users\\alser\\appdata\\local\\programs\\python\\python310\\lib\\site-packages (from redis>=3.5.3->spotipy) (5.0.1)\n",
      "Requirement already satisfied: certifi>=2017.4.17 in c:\\users\\alser\\appdata\\local\\programs\\python\\python310\\lib\\site-packages (from requests>=2.25.0->spotipy) (2023.7.22)\n",
      "Requirement already satisfied: charset-normalizer<4,>=2 in c:\\users\\alser\\appdata\\local\\programs\\python\\python310\\lib\\site-packages (from requests>=2.25.0->spotipy) (3.3.1)\n",
      "Requirement already satisfied: idna<4,>=2.5 in c:\\users\\alser\\appdata\\local\\programs\\python\\python310\\lib\\site-packages (from requests>=2.25.0->spotipy) (3.4)\n"
     ]
    },
    {
     "name": "stderr",
     "output_type": "stream",
     "text": [
      "\n",
      "[notice] A new release of pip available: 22.2.1 -> 25.1\n",
      "[notice] To update, run: python.exe -m pip install --upgrade pip\n"
     ]
    },
    {
     "name": "stdout",
     "output_type": "stream",
     "text": [
      "Requirement already satisfied: python-dotenv in c:\\users\\alser\\appdata\\local\\programs\\python\\python310\\lib\\site-packages (1.0.1)\n"
     ]
    },
    {
     "name": "stderr",
     "output_type": "stream",
     "text": [
      "\n",
      "[notice] A new release of pip available: 22.2.1 -> 25.1\n",
      "[notice] To update, run: python.exe -m pip install --upgrade pip\n"
     ]
    }
   ],
   "source": [
    "!pip install spotipy\n",
    "!pip install python-dotenv"
   ]
  },
  {
   "cell_type": "code",
   "execution_count": 1,
   "id": "a4cd0f67",
   "metadata": {},
   "outputs": [],
   "source": [
    "import os\n",
    "import spotipy\n",
    "from spotipy.oauth2 import SpotifyOAuth"
   ]
  },
  {
   "cell_type": "code",
   "execution_count": 2,
   "id": "7f6939eb",
   "metadata": {},
   "outputs": [],
   "source": [
    "client_id = os.getenv(\"SPOTIPY_CLIENT_ID\")\n",
    "client_secret = os.getenv(\"SPOTIPY_CLIENT_SECRET\")\n",
    "redirect_uri = 'http://127.0.0.1:8888/callback'"
   ]
  },
  {
   "cell_type": "code",
   "execution_count": 7,
   "id": "b812c974",
   "metadata": {},
   "outputs": [],
   "source": [
    "sp = spotipy.Spotify(auth_manager=SpotifyOAuth(\n",
    "    client_id=client_id,\n",
    "    client_secret=client_secret,\n",
    "    redirect_uri=redirect_uri,\n",
    "    scope=\"user-top-read\",\n",
    "    open_browser=False,\n",
    "    show_dialog=True\n",
    "))"
   ]
  },
  {
   "cell_type": "code",
   "execution_count": 11,
   "id": "39efddce",
   "metadata": {},
   "outputs": [
    {
     "data": {
      "text/plain": [
       "[{'track': 'Mood', 'artist': 'DPR IAN', 'id': '0nEsLR5KTySCO9CfyC2yjg'},\n",
       " {'track': 'Nerves', 'artist': 'DPR IAN', 'id': '2qwplOI7upNGwg2mLVrraw'},\n",
       " {'track': 'evermore (feat. Bon Iver)',\n",
       "  'artist': 'Taylor Swift',\n",
       "  'id': '6Wlq9rqkxrqj5Kls4Kw14H'},\n",
       " {'track': 'Ring', 'artist': 'Selena Gomez', 'id': '11Ey4yJVeWEsA73KjACkVY'},\n",
       " {'track': \"Don't ever say love me (feat. RM of BTS)\",\n",
       "  'artist': 'Colde',\n",
       "  'id': '34o6gteNy2T5rieA0xYAgo'},\n",
       " {'track': 'Queencard', 'artist': '(G)I-DLE', 'id': '4uOBL4DDWWVx4RhYKlPbPC'},\n",
       " {'track': \"Better Man (Taylor's Version) (From The Vault)\",\n",
       "  'artist': 'Taylor Swift',\n",
       "  'id': '4OmFmE0fzcMG6g0Y8p4eSD'},\n",
       " {'track': 'love is embarrassing',\n",
       "  'artist': 'Olivia Rodrigo',\n",
       "  'id': '26QLJMK8G0M06sk7h7Fkse'},\n",
       " {'track': 'The Smallest Man Who Ever Lived',\n",
       "  'artist': 'Taylor Swift',\n",
       "  'id': '1xtw1krCR6Dw2KwkXw5z63'},\n",
       " {'track': 'Guilty as Sin?',\n",
       "  'artist': 'Taylor Swift',\n",
       "  'id': '799KrpEbhZp0MHeiA8YK9P'},\n",
       " {'track': \"You're On Your Own, Kid\",\n",
       "  'artist': 'Taylor Swift',\n",
       "  'id': '7gVWKBcfIW93YxNBi3ApIE'},\n",
       " {'track': \"Now That We Don't Talk (Taylor's Version) (From The Vault)\",\n",
       "  'artist': 'Taylor Swift',\n",
       "  'id': '5KD6AEm19QnMbfWpfoOHMl'},\n",
       " {'track': \"Don't Go Insane\",\n",
       "  'artist': 'DPR IAN',\n",
       "  'id': '5LWWAw887ODAUvR2LR1kDg'},\n",
       " {'track': 'Super Lady', 'artist': '(G)I-DLE', 'id': '5qI5EUqfDJpQ7w6sMECK7U'},\n",
       " {'track': 'SAD GIRLZ LUV MONEY Remix (feat. Kali Uchis and Moliy)',\n",
       "  'artist': 'Amaarae',\n",
       "  'id': '09gysnJpfQ3ublBmJDfcEC'},\n",
       " {'track': 'I NEED U - Spotify Singles',\n",
       "  'artist': 'ENHYPEN',\n",
       "  'id': '3MOa6IKagO2lT9n0sI8fZQ'},\n",
       " {'track': 'MY BAG', 'artist': '(G)I-DLE', 'id': '1t8sqIScEIP0B4bQzBuI2P'},\n",
       " {'track': 'Can’t Catch Me Now - from The Hunger Games: The Ballad of Songbirds & Snakes',\n",
       "  'artist': 'Olivia Rodrigo',\n",
       "  'id': '17cia5k4BpGVlyEfqrFH50'},\n",
       " {'track': 'Carolina - From The Motion Picture “Where The Crawdads Sing”',\n",
       "  'artist': 'Taylor Swift',\n",
       "  'id': '4axSuOg3BqsowKjRpj59RU'},\n",
       " {'track': 'Eve, Psyche & The Bluebeard’s wife',\n",
       "  'artist': 'LE SSERAFIM',\n",
       "  'id': '4QhnNyKDsAkXPwHkSnuc89'},\n",
       " {'track': 'Nothing New (feat. Phoebe Bridgers) (Taylor’s Version) (From The Vault)',\n",
       "  'artist': 'Taylor Swift',\n",
       "  'id': '01K4zKU104LyJ8gMb7227B'},\n",
       " {'track': 'Hall of Fame',\n",
       "  'artist': 'Stray Kids',\n",
       "  'id': '5podb1asONjqwKk1iMVOeG'},\n",
       " {'track': \"Would've, Could've, Should've\",\n",
       "  'artist': 'Taylor Swift',\n",
       "  'id': '0aV5uARAknQgYhBaK944FP'},\n",
       " {'track': 'Say Yes To Heaven',\n",
       "  'artist': 'Lana Del Rey',\n",
       "  'id': '6GGtHZgBycCgGBUhZo81xe'},\n",
       " {'track': 'Bills', 'artist': 'ENHYPEN', 'id': '2nfluhFVrO5OBXPzRWlwlz'},\n",
       " {'track': 'Cruel Summer',\n",
       "  'artist': 'Taylor Swift',\n",
       "  'id': '1BxfuPKGuaTgP7aM0Bbdwr'},\n",
       " {'track': 'Mardy Bum',\n",
       "  'artist': 'Arctic Monkeys',\n",
       "  'id': '2fyIS6GXMgUcSv4oejx63f'},\n",
       " {'track': 'Hits Different',\n",
       "  'artist': 'Taylor Swift',\n",
       "  'id': '3xYJScVfxByb61dYHTwiby'},\n",
       " {'track': 'Somewhere Only We Know',\n",
       "  'artist': 'Keane',\n",
       "  'id': '1SKPmfSYaPsETbRHaiA18G'},\n",
       " {'track': 'Bite Me', 'artist': 'ENHYPEN', 'id': '7mpdNiaQvygj2rHoxkzMfa'},\n",
       " {'track': 'Hard to Love',\n",
       "  'artist': 'BLACKPINK',\n",
       "  'id': '1I2MEjnS9c4OPMnKWbIuYs'},\n",
       " {'track': 'Bejeweled',\n",
       "  'artist': 'Taylor Swift',\n",
       "  'id': '3qoftcUZaUOncvIYjFSPdE'},\n",
       " {'track': 'I Can Do It With a Broken Heart',\n",
       "  'artist': 'Taylor Swift',\n",
       "  'id': '4q5YezDOIPcoLr8R81x9qy'},\n",
       " {'track': 'Mantra', 'artist': 'JENNIE', 'id': '2CspwnypzT7rcWI9RfsoSb'},\n",
       " {'track': 'Dumb & Poetic',\n",
       "  'artist': 'Sabrina Carpenter',\n",
       "  'id': '5VhvD0AKRprEaFtPNKGBQR'},\n",
       " {'track': 'Typa Girl', 'artist': 'BLACKPINK', 'id': '3BHR1mJOqn2UZyq98YKPgd'},\n",
       " {'track': 'Trash', 'artist': 'Little Mix', 'id': '2Tb4Us0GhAuCpEsqOdTmmy'},\n",
       " {'track': 'Who’s Afraid of Little Old Me?',\n",
       "  'artist': 'Taylor Swift',\n",
       "  'id': '36t6frENUtCYKuZus6aYDO'},\n",
       " {'track': 'MEGAVERSE',\n",
       "  'artist': 'Stray Kids',\n",
       "  'id': '5Q1tv4GTxP3IJeGMOKdrFO'},\n",
       " {'track': 'Downtown Baby', 'artist': 'BLOO', 'id': '61RF2qNzya48WZoS4k5uwp'},\n",
       " {'track': 'Midnight Rain',\n",
       "  'artist': 'Taylor Swift',\n",
       "  'id': '6Nl7KyvjkFncGsjB49SxLl'},\n",
       " {'track': \"Back To December (Taylor's Version)\",\n",
       "  'artist': 'Taylor Swift',\n",
       "  'id': '79uDOz0zuuWS7HWxzMmTa2'},\n",
       " {'track': 'Don’t Smile',\n",
       "  'artist': 'Sabrina Carpenter',\n",
       "  'id': '09LrGvT9KsACH66RHYMDyR'},\n",
       " {'track': 'all-american bitch',\n",
       "  'artist': 'Olivia Rodrigo',\n",
       "  'id': '34sOdxWu9FljH84UXdRwu1'},\n",
       " {'track': 'Drama', 'artist': 'aespa', 'id': '5XWlyfo0kZ8LF7VSyfS4Ew'},\n",
       " {'track': 'Mr. Perfectly Fine (Taylor’s Version) (From The Vault)',\n",
       "  'artist': 'Taylor Swift',\n",
       "  'id': '7l2tmgUhV7Y2aJHjiszifg'},\n",
       " {'track': 'imgonnagetyouback',\n",
       "  'artist': 'Taylor Swift',\n",
       "  'id': '1kcwpPDQnqEqmezzXdJTCP'},\n",
       " {'track': 'TOPLINE (Feat. Tiger JK)',\n",
       "  'artist': 'Stray Kids',\n",
       "  'id': '0jvZ9caE53ubCQXMki6W23'},\n",
       " {'track': 'You & Me (Coachella ver.)',\n",
       "  'artist': 'JENNIE',\n",
       "  'id': '1Z3sBD8yUSLUVt16mMdaVj'},\n",
       " {'track': 'Polaroid Love',\n",
       "  'artist': 'ENHYPEN',\n",
       "  'id': '5elW2CKSoqjYoJ32AGDxf1'}]"
      ]
     },
     "execution_count": 11,
     "metadata": {},
     "output_type": "execute_result"
    }
   ],
   "source": [
    "top_tracks = sp.current_user_top_tracks(limit=50, time_range='long_term')  # short_term, medium_term, long_term\n",
    "\n",
    "track_data = []\n",
    "track_ids = []\n",
    "\n",
    "for item in top_tracks['items']:\n",
    "    track_name = item['name']\n",
    "    artist = item['artists'][0]['name']\n",
    "    track_id = item['id']\n",
    "    track_ids.append(track_id)\n",
    "    track_data.append({'track': track_name, 'artist': artist, 'id': track_id})"
   ]
  },
  {
   "cell_type": "code",
   "execution_count": 16,
   "id": "bd835c40",
   "metadata": {},
   "outputs": [
    {
     "name": "stdout",
     "output_type": "stream",
     "text": [
      "DPR IAN - Mood\n",
      "DPR IAN - Nerves\n",
      "Taylor Swift - evermore (feat. Bon Iver)\n",
      "Selena Gomez - Ring\n",
      "Colde - Don't ever say love me (feat. RM of BTS)\n",
      "(G)I-DLE - Queencard\n",
      "Taylor Swift - Better Man (Taylor's Version) (From The Vault)\n",
      "Olivia Rodrigo - love is embarrassing\n",
      "Taylor Swift - The Smallest Man Who Ever Lived\n",
      "Taylor Swift - Guilty as Sin?\n",
      "Taylor Swift - You're On Your Own, Kid\n",
      "Taylor Swift - Now That We Don't Talk (Taylor's Version) (From The Vault)\n",
      "DPR IAN - Don't Go Insane\n",
      "(G)I-DLE - Super Lady\n",
      "Amaarae - SAD GIRLZ LUV MONEY Remix (feat. Kali Uchis and Moliy)\n",
      "ENHYPEN - I NEED U - Spotify Singles\n",
      "(G)I-DLE - MY BAG\n",
      "Olivia Rodrigo - Can’t Catch Me Now - from The Hunger Games: The Ballad of Songbirds & Snakes\n",
      "Taylor Swift - Carolina - From The Motion Picture “Where The Crawdads Sing”\n",
      "LE SSERAFIM - Eve, Psyche & The Bluebeard’s wife\n",
      "Taylor Swift - Nothing New (feat. Phoebe Bridgers) (Taylor’s Version) (From The Vault)\n",
      "Stray Kids - Hall of Fame\n",
      "Taylor Swift - Would've, Could've, Should've\n",
      "Lana Del Rey - Say Yes To Heaven\n",
      "ENHYPEN - Bills\n",
      "Taylor Swift - Cruel Summer\n",
      "Arctic Monkeys - Mardy Bum\n",
      "Taylor Swift - Hits Different\n",
      "Keane - Somewhere Only We Know\n",
      "ENHYPEN - Bite Me\n",
      "BLACKPINK - Hard to Love\n",
      "Taylor Swift - Bejeweled\n",
      "Taylor Swift - I Can Do It With a Broken Heart\n",
      "JENNIE - Mantra\n",
      "Sabrina Carpenter - Dumb & Poetic\n",
      "BLACKPINK - Typa Girl\n",
      "Little Mix - Trash\n",
      "Taylor Swift - Who’s Afraid of Little Old Me?\n",
      "Stray Kids - MEGAVERSE\n",
      "BLOO - Downtown Baby\n",
      "Taylor Swift - Midnight Rain\n",
      "Taylor Swift - Back To December (Taylor's Version)\n",
      "Sabrina Carpenter - Don’t Smile\n",
      "Olivia Rodrigo - all-american bitch\n",
      "aespa - Drama\n",
      "Taylor Swift - Mr. Perfectly Fine (Taylor’s Version) (From The Vault)\n",
      "Taylor Swift - imgonnagetyouback\n",
      "Stray Kids - TOPLINE (Feat. Tiger JK)\n",
      "JENNIE - You & Me (Coachella ver.)\n",
      "ENHYPEN - Polaroid Love\n"
     ]
    }
   ],
   "source": [
    "for track in track_data:\n",
    "    print(f\"{track['artist']} - {track['track']}\")"
   ]
  }
 ],
 "metadata": {
  "kernelspec": {
   "display_name": "venv",
   "language": "python",
   "name": "venv"
  },
  "language_info": {
   "codemirror_mode": {
    "name": "ipython",
    "version": 3
   },
   "file_extension": ".py",
   "mimetype": "text/x-python",
   "name": "python",
   "nbconvert_exporter": "python",
   "pygments_lexer": "ipython3",
   "version": "3.10.6"
  }
 },
 "nbformat": 4,
 "nbformat_minor": 5
}
